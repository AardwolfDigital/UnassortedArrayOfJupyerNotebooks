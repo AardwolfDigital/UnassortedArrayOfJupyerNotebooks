{
 "cells": [
  {
   "cell_type": "code",
   "execution_count": 1,
   "metadata": {},
   "outputs": [],
   "source": [
    "def dijkstra(graph, start):\n",
    "    # Initialize distances to all nodes as infinity except the starting node, which is 0\n",
    "    distances = {node: float('inf') for node in graph}\n",
    "    distances[start] = 0\n",
    "\n",
    "    # Initialize a set to keep track of visited nodes\n",
    "    visited = set()\n",
    "\n",
    "    # Repeat until all nodes have been visited\n",
    "    while len(visited) < len(graph):\n",
    "        # Find the node with the smallest distance\n",
    "        current_node = None\n",
    "        current_distance = float('inf')\n",
    "        for node, distance in distances.items():\n",
    "            if node not in visited and distance < current_distance:\n",
    "                current_node = node\n",
    "                current_distance = distance\n",
    "\n",
    "        # Mark the current node as visited\n",
    "        visited.add(current_node)\n",
    "\n",
    "        # Update the distances to each neighbor of the current node\n",
    "        for neighbor, weight in graph[current_node].items():\n",
    "            distance = distances[current_node] + weight\n",
    "            if distance < distances[neighbor]:\n",
    "                distances[neighbor] = distance\n",
    "\n",
    "    # Return the shortest distances to each node from the starting node\n",
    "    return distances\n"
   ]
  },
  {
   "cell_type": "code",
   "execution_count": 2,
   "metadata": {},
   "outputs": [
    {
     "data": {
      "text/plain": [
       "{'A': 2, 'B': 0, 'C': 1, 'D': 1}"
      ]
     },
     "execution_count": 2,
     "metadata": {},
     "output_type": "execute_result"
    }
   ],
   "source": [
    "graph = {\n",
    "    'A': {'B': 2, 'C': 3},\n",
    "    'B': {'A': 2, 'C': 1, 'D': 1},\n",
    "    'C': {'A': 3, 'B': 1, 'D': 7},\n",
    "    'D': {'B': 1, 'C': 7}\n",
    "}\n",
    "\n",
    "shortest_distances = dijkstra(graph, 'B')\n",
    "shortest_distances\n"
   ]
  }
 ],
 "metadata": {
  "kernelspec": {
   "display_name": "Python 3",
   "language": "python",
   "name": "python3"
  },
  "language_info": {
   "codemirror_mode": {
    "name": "ipython",
    "version": 3
   },
   "file_extension": ".py",
   "mimetype": "text/x-python",
   "name": "python",
   "nbconvert_exporter": "python",
   "pygments_lexer": "ipython3",
   "version": "3.10.5"
  },
  "orig_nbformat": 4
 },
 "nbformat": 4,
 "nbformat_minor": 2
}
